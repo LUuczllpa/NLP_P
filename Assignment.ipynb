{
  "nbformat": 4,
  "nbformat_minor": 0,
  "metadata": {
    "colab": {
      "name": "Assignment.ipynb",
      "version": "0.3.2",
      "provenance": [],
      "collapsed_sections": [],
      "include_colab_link": true
    },
    "kernelspec": {
      "name": "python3",
      "display_name": "Python 3"
    }
  },
  "cells": [
    {
      "cell_type": "markdown",
      "metadata": {
        "id": "view-in-github",
        "colab_type": "text"
      },
      "source": [
        "<a href=\"https://colab.research.google.com/github/LUuczllpa/NLP_P/blob/master/Assignment.ipynb\" target=\"_parent\"><img src=\"https://colab.research.google.com/assets/colab-badge.svg\" alt=\"Open In Colab\"/></a>"
      ]
    },
    {
      "metadata": {
        "id": "f0DNj4zyIGKa",
        "colab_type": "text"
      },
      "cell_type": "markdown",
      "source": [
        "# Assignment 1\n",
        "The first assignment has two parts. The first part concerns PyTorch and the second part is about feature engineering for a basic NLP task.\n",
        "## Instructions\n",
        "\n",
        "1.   Make a copy of this notebook \n",
        "  - Click on \"File -> Save a copy in Drive\" and open it in Colab afterwards\n",
        "  - **Not recommended!**: Alternatively, download the notebook and work on it on your local machine though keep in mind that you will have to make sure it still runs on Colab afterwards and does not depend on any packages that you installed locally\n",
        "2.   Rename your notebook to **surname-forename-studentnumber.ipynb**\n",
        "  - Make sure to exactly follow this naming scheme (don't replace `-` with `_` or something like that)\n",
        "  - **Failure to comply with this scheme results in -10 points!**\n",
        "3.   For math exercises, use $\\LaTeX$  to typset your answer\n",
        "4.   For coding exercises, insert your code at `# TODO` statements\n",
        "5.   For multiple-choice questions, choose an answer from the drop-down list\n",
        "6.   Before submitting your notebook, **make sure that it runs without errors when executed from start to end on Colab**\n",
        "  - To check this, reload your notebook and the Python kernel, and run the notebook from the first to the last cell\n",
        "  - **If your notebook throws any errors, you will be penalized by -25 points in addition to any penalities from incorrect answers**\n",
        "  - We are not going to fix any errors (no matter how small) to make your code work\n",
        "7.  Download your notebook and submit it on Moodle\n",
        "  - Click on \"File -> Download .ipynb\"\n",
        "  \n",
        "\n"
      ]
    },
    {
      "metadata": {
        "id": "qvB4c3R4II91",
        "colab_type": "text"
      },
      "cell_type": "markdown",
      "source": [
        "## Notebook Setup [don't change!]"
      ]
    },
    {
      "metadata": {
        "id": "d0w7l3EpExU6",
        "colab_type": "code",
        "outputId": "d7c0eb69-4cc4-42de-c739-7eca55769a5a",
        "colab": {
          "base_uri": "https://localhost:8080/",
          "height": 34
        }
      },
      "cell_type": "code",
      "source": [
        "%%shell\n",
        "pip install torch"
      ],
      "execution_count": 0,
      "outputs": [
        {
          "output_type": "stream",
          "text": [
            "Requirement already satisfied: torch in /usr/local/lib/python3.6/dist-packages (1.0.0)\n"
          ],
          "name": "stdout"
        },
        {
          "output_type": "execute_result",
          "data": {
            "text/plain": [
              ""
            ]
          },
          "metadata": {
            "tags": []
          },
          "execution_count": 7
        }
      ]
    },
    {
      "metadata": {
        "id": "Pqig2nu9Eztp",
        "colab_type": "code",
        "colab": {}
      },
      "cell_type": "code",
      "source": [
        "import torch\n",
        "from torch import nn\n",
        "assert torch.__version__ == '1.0.0'"
      ],
      "execution_count": 0,
      "outputs": []
    },
    {
      "metadata": {
        "colab_type": "text",
        "id": "C6J4cspjNMdD"
      },
      "cell_type": "markdown",
      "source": [
        "# Part I: PyTorch [50 points]"
      ]
    },
    {
      "metadata": {
        "colab_type": "text",
        "id": "YqpgI-WvNMdF"
      },
      "cell_type": "markdown",
      "source": [
        "## Linear Algebra [30 points]"
      ]
    },
    {
      "metadata": {
        "colab_type": "text",
        "id": "fJn6P1nENMdG"
      },
      "cell_type": "markdown",
      "source": [
        "### PyTorch Tensors [5 points]"
      ]
    },
    {
      "metadata": {
        "colab_type": "text",
        "id": "RVowRnkNNMdH"
      },
      "cell_type": "markdown",
      "source": [
        "#### Construct Scaled Identity Matrix [1 point]\n",
        "Given $n \\in \\mathbb{N}$ and $c \\in \\mathbb{R}$, construct a matrix $\\mathbf{X} \\in \\mathbb{R}^{n\\ \\times\\ n}$ where $\\mathbf{X}$ has $c$ on its diagonal and zeros everywhere else."
      ]
    },
    {
      "metadata": {
        "colab_type": "code",
        "id": "R5HedJsGNMdK",
        "colab": {}
      },
      "cell_type": "code",
      "source": [
        "def construct_scaled_identity(n, c):\n",
        "  # TODO\n",
        "  return None\n",
        "\n",
        "construct_scaled_identity(4, 3.2)"
      ],
      "execution_count": 0,
      "outputs": []
    },
    {
      "metadata": {
        "colab_type": "text",
        "id": "zuTuxs3NNMdN"
      },
      "cell_type": "markdown",
      "source": [
        "#### Mean Diagonal [1 point]\n",
        "Given a square matrix $\\mathbf{X}\\in\\mathbb{R}^{n\\ \\times\\ n}$, return the mean of its diagonal."
      ]
    },
    {
      "metadata": {
        "colab_type": "code",
        "id": "ZXTiiEfXNMdN",
        "colab": {}
      },
      "cell_type": "code",
      "source": [
        "def mean_diagonal(x):\n",
        "  # TODO\n",
        "  return None\n",
        "\n",
        "x = torch.arange(0, 16, dtype=torch.float).view(4, 4)\n",
        "mean_diagonal(x)"
      ],
      "execution_count": 0,
      "outputs": []
    },
    {
      "metadata": {
        "colab_type": "text",
        "id": "nwJyhWffNMdR"
      },
      "cell_type": "markdown",
      "source": [
        "#### Indexing [1 point]\n",
        "Given a matrix $\\mathbf{X}\\in\\mathbb{R}^{n\\ \\times\\ m}$ and $i,j \\in \\mathbb{N}$, return the submatrix $\\mathbf{Y}\\in\\mathbb{R}^{i\\ \\times\\ j}$ of the last i rows and last j columns of $\\mathbf{X}$ (i.e. the bottom right submatrix of the given size). You can assume that $i \\leq n$ and $j \\leq m$."
      ]
    },
    {
      "metadata": {
        "colab_type": "code",
        "id": "_t-3LJAaNMdT",
        "colab": {}
      },
      "cell_type": "code",
      "source": [
        "def bottom_right_matrix(x, i, j):\n",
        "  # TODO\n",
        "  return None\n",
        "\n",
        "x = torch.arange(0, 12).view(3, 4)\n",
        "bottom_right_matrix(x, 2, 2)"
      ],
      "execution_count": 0,
      "outputs": []
    },
    {
      "metadata": {
        "colab_type": "text",
        "id": "8b_MgbrMNMdY"
      },
      "cell_type": "markdown",
      "source": [
        "#### Transpose Sum [2 points]\n",
        "Given a tensor $\\mathcal{X}\\in\\mathbb{R}^{i\\ \\times\\ j\\ \\times\\ k}$, return a transposed tensor $\\mathcal{y}\\in\\mathbb{R}^{j\\ \\times\\ i}$ whose values in the third dimension are summed up."
      ]
    },
    {
      "metadata": {
        "colab_type": "code",
        "id": "_l_sO_UjNMdY",
        "colab": {}
      },
      "cell_type": "code",
      "source": [
        "def transpose_sum(x):\n",
        "  # TODO\n",
        "  return None\n",
        "  \n",
        "x = torch.arange(0, 12).view(2, 3, 2)\n",
        "transpose_sum(x)"
      ],
      "execution_count": 0,
      "outputs": []
    },
    {
      "metadata": {
        "colab_type": "text",
        "id": "jjvy0cOxNMdc"
      },
      "cell_type": "markdown",
      "source": [
        "### Matrix-vector Multiplication [10 points]"
      ]
    },
    {
      "metadata": {
        "colab_type": "text",
        "id": "grswrQwDNMdd"
      },
      "cell_type": "markdown",
      "source": [
        "Implement five unique ways for multiplying a matrix A with a vector b. **Each PyTorch function is allowed to be used in only one of the five implementations**. For instance, if you use `unsqueeze` in one of the methods, you are not allowed to use it for the other five implementations. Furthermore, functions in `torch` and in `torch.Tensor` are are treated as the same function (i.e. using `torch.add(x, y)`, `x.add(y)` and `x + y` are all treated as the same function and hence are not allowed to be used in more than one implementation). Your code needs to be applicable to any matrix $A \\in \\mathbb{R}^{n\\ \\times\\ m }$ and vector $b\\in\\mathbb{R}^m$."
      ]
    },
    {
      "metadata": {
        "colab_type": "code",
        "id": "Xb7_j0RPNMde",
        "colab": {}
      },
      "cell_type": "code",
      "source": [
        "def matrixvector1(A, b):\n",
        "  # TODO\n",
        "  return None\n",
        "\n",
        "def matrixvector2(A, b):\n",
        "  # TODO\n",
        "  return None\n",
        "\n",
        "def matrixvector3(A, b):\n",
        "  # TODO\n",
        "  return None\n",
        "\n",
        "def matrixvector4(A, b):\n",
        "  # TODO\n",
        "  return None\n",
        "\n",
        "def matrixvector5(A, b):\n",
        "  # TODO\n",
        "  return None"
      ],
      "execution_count": 0,
      "outputs": []
    },
    {
      "metadata": {
        "colab_type": "text",
        "id": "FXgAd6vfNMdi"
      },
      "cell_type": "markdown",
      "source": [
        "### Backprop [15 points]"
      ]
    },
    {
      "metadata": {
        "colab_type": "text",
        "id": "d3xhr10VNMdj"
      },
      "cell_type": "markdown",
      "source": [
        "#### Forward [2 points]\n",
        "Implement $\\mathbf{y}\\odot\\text{tanh}\\left(\\mathbf{W}\\mathbf{x}+\\mathbf{b}\\right)$ in PyTorch without using a linear layer implementation (i.e. do the matrix-vector mulitplication and addition of a bias term yourself). Note that we are not looking for a batched implementation, so assume $\\mathbf{y},\\mathbf{b} \\in \\mathbb{R}^n, \\mathbf{x}\\in\\mathbb{R}^m$ and $\\mathbf{W}\\in\\mathbb{R}^{n\\ \\times\\ m}$"
      ]
    },
    {
      "metadata": {
        "colab_type": "code",
        "id": "qokoTb8KNMdk",
        "colab": {}
      },
      "cell_type": "code",
      "source": [
        "def fw(y, W, x, b):\n",
        "  # TODO\n",
        "  return None"
      ],
      "execution_count": 0,
      "outputs": []
    },
    {
      "metadata": {
        "colab_type": "text",
        "id": "7b1caDwbNMdl"
      },
      "cell_type": "markdown",
      "source": [
        "#### Gradient [10 points]\n",
        "Derive $\\frac{\\partial}{\\partial \\mathbf{x}}\\left[\\mathbf{y}\\odot\\text{tanh}\\left(\\mathbf{W}\\mathbf{x}+\\mathbf{b}\\right)\\right]$ analytically. Make sure to write down all intermediate steps and not just the final result. "
      ]
    },
    {
      "metadata": {
        "colab_type": "text",
        "id": "O5qJIdsyNMdn"
      },
      "cell_type": "markdown",
      "source": [
        "\\begin{align}\n",
        "\\frac{\\partial}{\\partial \\mathbf{x}}\\left[\\mathbf{y}\\odot\\text{tanh}\\left(\\mathbf{W}\\mathbf{x}+\\mathbf{b}\\right)\\right] \n",
        "&= \\ ?\\\\\n",
        "&= \\ ?\\\\\n",
        "&= \\ ?\n",
        "\\end{align}"
      ]
    },
    {
      "metadata": {
        "colab_type": "text",
        "id": "fS1dyl5uNMdn"
      },
      "cell_type": "markdown",
      "source": [
        "#### Backward [3 points]\n",
        "Implement the calculation for $\\frac{\\partial}{\\partial \\mathbf{x}}\\left[\\mathbf{y}\\odot\\text{tanh}\\left(\\mathbf{W}\\mathbf{x}+\\mathbf{b}\\right)\\right]$  in PyTorch (i.e. without using PyTorch Autograd's `.backward`) using your derivation above."
      ]
    },
    {
      "metadata": {
        "colab_type": "code",
        "id": "bqxb3aKrNMdo",
        "colab": {}
      },
      "cell_type": "code",
      "source": [
        "def bw(y, W, x, b, grad_output):\n",
        "  # TODO\n",
        "  return None\n",
        "  "
      ],
      "execution_count": 0,
      "outputs": []
    },
    {
      "metadata": {
        "colab_type": "text",
        "id": "VYtYDeOTNMdq"
      },
      "cell_type": "markdown",
      "source": [
        "## SortBy PyTorch Autograd Function [10 points]"
      ]
    },
    {
      "metadata": {
        "colab_type": "text",
        "id": "frtS6MAkNMds"
      },
      "cell_type": "markdown",
      "source": [
        "Implement a PyTorch Autograd function `SortBy` which takes two inputs:\n",
        "- `x` is a matrix of size `m x n` \n",
        "- `s` is an accompanying vector of size `m`\n",
        "\n",
        "`SortBy` should sort the position of the row vectors in `x` using the accompanying scores in `s` in ascending order. For example, given\n",
        "$$\n",
        "\\begin{align}\n",
        "\\mathbf{X} &= \\left[\\begin{matrix}\n",
        "0.2 & -0.4 & 0.3\\\\\n",
        "1.2 & 2.3 & -2.1\\\\\n",
        "0.1 & -0.1 & 2\n",
        "\\end{matrix}\\right]\n",
        "&\\mathbf{s} &=\\left[\\begin{matrix}\n",
        "0.2\\\\\n",
        "-0.1\\\\\n",
        "3\n",
        "\\end{matrix}\\right]\n",
        "\\end{align}\n",
        "$$ the forward pass of `SortBy` should return\n",
        "$$\n",
        "\\mathbf{Y} = \\left[\\begin{matrix}\n",
        "1.2 & 2.3 & -2.1\\\\\n",
        "0.2 & -0.4 & 0.3\\\\\n",
        "0.1 & -0.1 & 2\n",
        "\\end{matrix}\\right]\n",
        "$$.\n",
        "\n",
        "Furthermore, given an upstream gradient `grad_output`  (i.e. a matrix of the same size as X), the backward pass of `SortBy` should calculate the gradient of `x`, effectively rerouting the gradient to the original position of the vectors before sorting. For example, if the first row vector of the upstream gradient  in our example above is a vector $\\mathbf{z}$, the gradient of `x` would have $\\mathbf{z}$ as its second row vector.\n",
        "\n",
        "Note that, `SortBy` will only be differentiable w.r.t. to x, and is not be differentiable w.r.t. the sorting procedure to provie a gradient for `s`. **You are not allowed to use any Python loops in your implementation. If you use Python loops for your solution, we will only give you half of the points!**\n",
        "\n",
        "Hints:\n",
        "- You are allowed to use `torch.sort` in your implementation of the forward pass.\n",
        "- Similarly to the example we had in the lecture, you can use the context `ctx` to save tensors on the forward pass that you might need to reuse on the backward pass."
      ]
    },
    {
      "metadata": {
        "colab_type": "code",
        "id": "c8SEs6bONMds",
        "colab": {}
      },
      "cell_type": "code",
      "source": [
        "from torch.autograd import Function\n",
        "\n",
        "class SortBy(Function): \n",
        "  @staticmethod\n",
        "  def forward(ctx, x, s):\n",
        "    # TODO\n",
        "    result = x\n",
        "    \n",
        "    return result\n",
        "  \n",
        "  @staticmethod\n",
        "  def backward(ctx, grad_output):\n",
        "    # TODO\n",
        "    return None, None\n",
        "  \n",
        "x = torch.randn(5, 3, dtype=torch.float, requires_grad=True)\n",
        "s = torch.randn(5, requires_grad=False)\n",
        "\n",
        "x_sorted = SortBy.apply(x, s)\n",
        "x_sorted.backward(torch.arange(0, 15, dtype=torch.float).view(5, 3))"
      ],
      "execution_count": 0,
      "outputs": []
    },
    {
      "metadata": {
        "colab_type": "text",
        "id": "XROrEhjVNMdw"
      },
      "cell_type": "markdown",
      "source": [
        "## Multiple Choice Quiz [10 points]\n",
        "\n",
        "Answer the following questions by selecting the correct answer (or `None` in case all answers are wrong).\n",
        "\n",
        "1. Which of the following operations cannot be calculated using `@`?\n",
        "2. What is gradient checking for?\n",
        "3. Why don't we use the finite differences method of gradient checking to calculate gradients instead of using backpropagation?\n",
        "4. Which of the folllowing operations cannot be expressed as a single einsum string?\n",
        "5. When should you prefer using `view` instead of `reshape`?\n",
        "6. Which of the following statements is true if you construct a Pytorch tensor from a NumPy array using `torch.from_numpy`?\n",
        "7. Which one is a sufficient condition for being able to broadcast an operation between two tensors?\n",
        "8. What is the defining property of a PyTorch Variable?\n",
        "9. Given a convex loss function and a sufficiently small learning rate, stochastic gradient descent is guaranteed to?\n",
        "10. Given a non-convex loss function and a very large learning rate, stochastic gradient descent is guaranteed to?"
      ]
    },
    {
      "metadata": {
        "colab_type": "code",
        "cellView": "both",
        "id": "4GuNE2o7NMdw",
        "colab": {}
      },
      "cell_type": "code",
      "source": [
        "#@title Answers { run: \"auto\" }\n",
        "Q1 = \"None of the above\" #@param [\"Matrix-matrix multiplication\", \"Matrix-vector multiplication\", \"Vector-vector multiplication\", \"Tensor-matrix multiplication\", \"Tensor-vector multiplication\", \"None of the above\"]\n",
        "Q2 = \"None of the above\" #@param [\"It tests whether the forward pass of a function is consistent with the backward pass\", \"It is used at runtime to check for numerical instabilities in the backward pass\", \"It tests wether the function and its gradient have been implemented correctly\", \"It tests whether the norm of the gradients of a function are bounded\", \"None of the above\"]\n",
        "Q3 = \"None of the above\" #@param [\"It cannot be used to approximate the gradient accurately enough\", \"It can only be used to calculate the gradient of single functions and not for chained functions which are commonly used in deep learning models\", \"It would be too slow\", \"None of the above\"]\n",
        "Q4 = \"None of the above\" #@param [\"The transpose of an order-three tensor\", \"The sum of the diagonal of a square matrix\", \"The outer product of two matrices\", \"None of the above\"]\n",
        "Q5 = \"None of the above\" #@param [\"When the tensor is non-contiguous\", \"When the tensor is contiguous\", \"None of the above\"]\n",
        "Q6 = \"None of the above\" #@param [\"Gradients can be calculated using both, the PyTorch tensor and the NumPy array\", \"They point to the same memory and altering one will change the other\", \"The PyTorch tensor cannot be mapped back to a NumPy array\", \"None of the above\"]\n",
        "Q7 = \"None of the above\" #@param [\"One of the two tensors is a scalar\", \"One of the tensors has a singleton dimension\", \"The two tensors have the same number of dimensions\", \"None of the above\"]\n",
        "Q8 = \"None of the above\" #@param [\"A tensor whose values can change during the execution of the program\", \"A tensor that is part of the computation graph for backpropagation\", \"A tensor that can be reassigned to a different tensor\", \"None of the above\"]\n",
        "Q9 = \"None of the above\" #@param [\"Find a local optimum\", \"Find the global optimum\", \"All of the above\", \"None of the above\"]\n",
        "Q10 = \"None of the above\" #@param [\"Find a local optimum\", \"Find the global optimum\", \"Converge to a saddle point\", \"All of the above\", \"None of the above\"]"
      ],
      "execution_count": 0,
      "outputs": []
    },
    {
      "metadata": {
        "colab_type": "text",
        "id": "FNbdGp3G437M"
      },
      "cell_type": "markdown",
      "source": [
        "# Part II: Feature Engineering [50 points]\n",
        "\n",
        "In this section you will develop a logistic regression model for sentiment prediction.  \n",
        "\n",
        "## Setup \n",
        "First we download the [sentence polarity dataset v1.0](http://www.cs.cornell.edu/people/pabo/movie-review-data/rt-polaritydata.tar.gz) from this [website](http://www.cs.cornell.edu/people/pabo/movie-review-data/) using a few shell commands. "
      ]
    },
    {
      "metadata": {
        "id": "qwR7cadCuLD3",
        "colab_type": "code",
        "outputId": "bc1c1d27-742b-4c43-b962-16185b84c0e3",
        "colab": {
          "base_uri": "https://localhost:8080/",
          "height": 272
        }
      },
      "cell_type": "code",
      "source": [
        "%%shell\n",
        "wget http://www.cs.cornell.edu/People/pabo/movie-review-data/rt-polaritydata.tar.gz\n",
        "tar -xzf rt-polaritydata.tar.gz\n",
        "mv rt-polaritydata.README.1.0.txt rt-polaritydata\n",
        "cd rt-polaritydata\n",
        "iconv -f cp1252 -t utf-8 < rt-polarity.neg > rt-polarity.neg.utf8\n",
        "iconv -f cp1252 -t utf-8 < rt-polarity.pos > rt-polarity.pos.utf8\n",
        "perl -ne 'print \"neg\\t\" . $_' <  rt-polarity.neg.utf8 > rt-polarity.neg.utf8.tsv\n",
        "perl -ne 'print \"pos\\t\" . $_' <  rt-polarity.pos.utf8 > rt-polarity.pos.utf8.tsv\n",
        "cat rt-polarity.neg.utf8.tsv rt-polarity.pos.utf8.tsv > rt-polarity.utf8.tsv"
      ],
      "execution_count": 0,
      "outputs": [
        {
          "output_type": "stream",
          "text": [
            "--2019-01-14 21:18:06--  http://www.cs.cornell.edu/People/pabo/movie-review-data/rt-polaritydata.tar.gz\n",
            "Resolving www.cs.cornell.edu (www.cs.cornell.edu)... 132.236.207.20\n",
            "Connecting to www.cs.cornell.edu (www.cs.cornell.edu)|132.236.207.20|:80... connected.\n",
            "HTTP request sent, awaiting response... 301 Moved Permanently\n",
            "Location: http://www.cs.cornell.edu/people/pabo/movie-review-data/rt-polaritydata.tar.gz [following]\n",
            "--2019-01-14 21:18:06--  http://www.cs.cornell.edu/people/pabo/movie-review-data/rt-polaritydata.tar.gz\n",
            "Reusing existing connection to www.cs.cornell.edu:80.\n",
            "HTTP request sent, awaiting response... 200 OK\n",
            "Length: 487770 (476K) [application/x-gzip]\n",
            "Saving to: ‘rt-polaritydata.tar.gz.1’\n",
            "\n",
            "rt-polaritydata.tar 100%[===================>] 476.34K   727KB/s    in 0.7s    \n",
            "\n",
            "2019-01-14 21:18:07 (727 KB/s) - ‘rt-polaritydata.tar.gz.1’ saved [487770/487770]\n",
            "\n"
          ],
          "name": "stdout"
        },
        {
          "output_type": "execute_result",
          "data": {
            "text/plain": [
              ""
            ]
          },
          "metadata": {
            "tags": []
          },
          "execution_count": 19
        }
      ]
    },
    {
      "metadata": {
        "id": "ghdXJnhquTpV",
        "colab_type": "text"
      },
      "cell_type": "markdown",
      "source": [
        "We install [torchtext](https://github.com/pytorch/text), a simple library to load language data into pytorch compatible format.   "
      ]
    },
    {
      "metadata": {
        "id": "VQbP2GT-uXDg",
        "colab_type": "code",
        "outputId": "8ddac4d5-d23f-45e7-e032-fafb4bab4aba",
        "colab": {
          "base_uri": "https://localhost:8080/",
          "height": 170
        }
      },
      "cell_type": "code",
      "source": [
        "%%shell\n",
        "pip install torchtext"
      ],
      "execution_count": 0,
      "outputs": [
        {
          "output_type": "stream",
          "text": [
            "Requirement already satisfied: torchtext in /usr/local/lib/python3.6/dist-packages (0.3.1)\n",
            "Requirement already satisfied: torch in /usr/local/lib/python3.6/dist-packages (from torchtext) (1.0.0)\n",
            "Requirement already satisfied: numpy in /usr/local/lib/python3.6/dist-packages (from torchtext) (1.14.6)\n",
            "Requirement already satisfied: requests in /usr/local/lib/python3.6/dist-packages (from torchtext) (2.18.4)\n",
            "Requirement already satisfied: tqdm in /usr/local/lib/python3.6/dist-packages (from torchtext) (4.28.1)\n",
            "Requirement already satisfied: certifi>=2017.4.17 in /usr/local/lib/python3.6/dist-packages (from requests->torchtext) (2018.11.29)\n",
            "Requirement already satisfied: urllib3<1.23,>=1.21.1 in /usr/local/lib/python3.6/dist-packages (from requests->torchtext) (1.22)\n",
            "Requirement already satisfied: idna<2.7,>=2.5 in /usr/local/lib/python3.6/dist-packages (from requests->torchtext) (2.6)\n",
            "Requirement already satisfied: chardet<3.1.0,>=3.0.2 in /usr/local/lib/python3.6/dist-packages (from requests->torchtext) (3.0.4)\n"
          ],
          "name": "stdout"
        },
        {
          "output_type": "execute_result",
          "data": {
            "text/plain": [
              ""
            ]
          },
          "metadata": {
            "tags": []
          },
          "execution_count": 20
        }
      ]
    },
    {
      "metadata": {
        "id": "ruAcuLbiu23x",
        "colab_type": "text"
      },
      "cell_type": "markdown",
      "source": [
        "## Preprocessing [7pts]\n",
        "\n",
        "Load the dataset again, this time fixing all instances where \"Mr.\" have been tokenized as two tokens to instances where \"Mr.\" is a single token. In addition, the preprocessing pipeline should also remove capitalisation. Hint: A look at the data can help you with an optimal implementation of the lowercasing step. \n",
        "\n",
        "Implement the above by changing and possibly extending the code below. "
      ]
    },
    {
      "metadata": {
        "id": "t0MXky0rvBZK",
        "colab_type": "code",
        "outputId": "90283e17-4dc4-433f-c6cc-366af8112f2b",
        "colab": {
          "base_uri": "https://localhost:8080/",
          "height": 34
        }
      },
      "cell_type": "code",
      "source": [
        "from torchtext import data\n",
        "\n",
        "def collapse_mr_dot_and_lowercase(tokens):\n",
        "  \"\"\"\n",
        "  Args:\n",
        "    features: a list of tokens\n",
        "  \"\"\"\n",
        "  # TODO: implement the preprocessing step described above. \n",
        "  return tokens\n",
        "\n",
        "FEATURES_PRE = data.Field(preprocessing=collapse_mr_dot_and_lowercase)\n",
        "LABEL_PRE = data.Field(sequential=False, is_target=True, unk_token=None)\n",
        "rt_polarity_pre = data.TabularDataset(\n",
        "   path='rt-polaritydata/rt-polarity.utf8.tsv', format='tsv',\n",
        "   fields=[('label', LABEL_PRE),\n",
        "           ('features', FEATURES_PRE)])\n",
        "\n",
        "FEATURES_PRE.build_vocab(rt_polarity_pre)\n",
        "LABEL_PRE.build_vocab(rt_polarity_pre)\n",
        "\n",
        "# Show one example\n",
        "rt_polarity_pre[10].features"
      ],
      "execution_count": 0,
      "outputs": [
        {
          "output_type": "execute_result",
          "data": {
            "text/plain": [
              "['a', 'sentimental', 'mess', 'that', 'never', 'rings', 'true', '.']"
            ]
          },
          "metadata": {
            "tags": []
          },
          "execution_count": 21
        }
      ]
    },
    {
      "metadata": {
        "id": "3WUsSv2CvpD0",
        "colab_type": "text"
      },
      "cell_type": "markdown",
      "source": [
        "## Logistic Regression\n",
        "\n",
        "Below we provide a simple implementation of a model, that combined with the corresponding loss, amounts to logistic regression.   "
      ]
    },
    {
      "metadata": {
        "id": "_gztYsQFvqYE",
        "colab_type": "code",
        "colab": {}
      },
      "cell_type": "code",
      "source": [
        "import torch\n",
        "import torch.nn as nn\n",
        "\n",
        "PAD_INDEX = 1\n",
        "\n",
        "# Model\n",
        "class LogisticRegression(nn.Module):\n",
        "    \"\"\"\n",
        "    Simple Logistic Regression implementation based on torchtext input format.\n",
        "    \"\"\"\n",
        "    def __init__(self, num_features):\n",
        "        super(LogisticRegression, self).__init__()\n",
        "        self.weights = nn.Parameter(torch.normal(torch.zeros(num_features)), \n",
        "                                requires_grad=True)\n",
        "            \n",
        "    def forward(self, x):\n",
        "        \"\"\"\n",
        "        Args:\n",
        "          x: a batch of input text of shape [batch_size, max_sentence_length]\n",
        "             using 1 for padding. \n",
        "        \"\"\"\n",
        "        # retrieve weights and set those to zero that come from padding cells \n",
        "        active_tokens_mask = (x != PAD_INDEX).float()   \n",
        "        filtered = active_tokens_mask * self.weights[x]\n",
        "        # sum pooling along the token position dimension \n",
        "        logits = filtered.sum(0)\n",
        "        return logits\n",
        "      \n"
      ],
      "execution_count": 0,
      "outputs": []
    },
    {
      "metadata": {
        "id": "Ilu-HBv8vw_c",
        "colab_type": "text"
      },
      "cell_type": "markdown",
      "source": [
        "## Formulation [5pts]\n",
        "\n",
        "In the class we have presented the model as encoder $f(\\mathbf{x})$ follwed by a linear decoder\n",
        "$$s(\\mathbf{x}) = \\boldsymbol{\\theta}^T  f(\\mathbf{x}) = \\boldsymbol{\\theta}^T \\sum_{w\\in \\mathbf{x}} f(w) $$ where $f(\\mathbf{x})$ is the representation of the input text. \n",
        "\n",
        "The implementation here achieves the same output, but the calculation is performed slightly differently due to technical reasons when working with pytorch. Can you give a mathematical description of this implementation here that captures the order in which computation happens? Below $f(w)$ is a one-hot representation of a word, as per lecture 2. \n",
        "\n",
        "The candidate answers are:\n",
        "\n",
        "1. $s(\\mathbf{x}) = \\left[\\sum_{w\\in \\mathbf{x}}  f(w)  \\right]^T \\boldsymbol{\\theta} $\n",
        "2. $s(\\mathbf{x}) = \\sum_{w\\in \\mathbf{x}}  \\boldsymbol{\\theta}^T f(w)$\n",
        "3. $s(\\mathbf{x}) = \\frac{1}{|\\mathbf{x}|}\\boldsymbol{\\theta}^T \\sum_{\\mathbf{x}\\in x}  f(w)$\n",
        "4. $s(\\mathbf{x}) = \\left[\\sum_{w\\in \\mathbf{x}}  f(w)  \\right]^T \\boldsymbol{\\theta} \\frac{1}{|\\mathbf{x}|} $"
      ]
    },
    {
      "metadata": {
        "id": "FjKT0eJzvyw8",
        "colab_type": "code",
        "colab": {}
      },
      "cell_type": "code",
      "source": [
        "#@title Answers { run: \"auto\" }\n",
        "QFormulation = \"None of the above\" #@param [\"Eq 1\", \"Eq 2\", \"Eq 3\", \"Eq 4\", \"None of the above\"]"
      ],
      "execution_count": 0,
      "outputs": []
    },
    {
      "metadata": {
        "id": "JDl_i8hvv-4s",
        "colab_type": "text"
      },
      "cell_type": "markdown",
      "source": [
        "## Mean Pooling [8pts]\n",
        "\n",
        "Create a new version of the logistic regression module, using mean pooling. "
      ]
    },
    {
      "metadata": {
        "id": "Ndq-rzkPwBom",
        "colab_type": "code",
        "colab": {}
      },
      "cell_type": "code",
      "source": [
        "# Model\n",
        "# DO NOT CHANGE THE NAME OR SIGNATURE OF THIS CLASS\n",
        "class LogisticRegressionMeanPooling(nn.Module):\n",
        "    \"\"\"\n",
        "    Simple Logistic Regression implementation based on torchtext input format.\n",
        "    \"\"\"\n",
        "    def __init__(self, num_features):\n",
        "        super(LogisticRegressionMeanPooling, self).__init__()\n",
        "        self.weights = nn.Parameter(torch.normal(torch.zeros(num_features)), \n",
        "                                requires_grad=True)\n",
        "            \n",
        "    def forward(self, x):\n",
        "        \"\"\"\n",
        "        Args:\n",
        "          x: a batch of input text of shape [batch_size, max_sentence_length]\n",
        "             using 1 for padding. \n",
        "        \"\"\"\n",
        "        # retrieve weights and set those to zero that come from padding cells \n",
        "        # TODO: change to implement mean pooling \n",
        "        active_tokens_mask = (x != PAD_INDEX).float()   \n",
        "        filtered = active_tokens_mask * self.weights[x]\n",
        "        # sum pooling along the token position dimension \n",
        "        logits = filtered.sum(0)\n",
        "        return logits\n",
        "      \n"
      ],
      "execution_count": 0,
      "outputs": []
    },
    {
      "metadata": {
        "id": "IHrFuxc7wH9P",
        "colab_type": "text"
      },
      "cell_type": "markdown",
      "source": [
        "## Add Features [20pts]\n",
        "\n",
        "Add the features below to the preprocessing pipeline shown below. \n",
        "\n",
        "### Bias Feature [6 pts]\n",
        "\n",
        "It is common practice to add a *bias* term of linear classifiers:\n",
        "\n",
        "$$s(\\mathbf{x}) = \\boldsymbol{\\theta}^T  f(\\mathbf{x}) + b $$\n",
        "\n",
        "One way to achieve this in general is to augment $f(\\mathbf{x}) $ with an extra component that is always set to $1$. In our implementation, this can be achieved by augmenting the `instance.features` field appropriately when loading the data, and setting the `preprocessing` argument in the `Field` constructor. Implement this below.  \n",
        "\n",
        "### Bigram Feature [7 pts]\n",
        "\n",
        "Use the `preprocessing` pipeline to implement a feature that captures whether word *pairs* $w_1, w_2$ appear consecutively in the sentence.  This feature should be *combined* with the standard unigram and bias features.   \n",
        "\n",
        "### Max Pooling [7 pts]\n",
        "\n",
        "Use the `preprocessing` pipeline to implement max pooling such that any feature appearing more than once in the sentence is only counted once, as per the lecture slides of week 1. \n"
      ]
    },
    {
      "metadata": {
        "id": "soOnYgfswNxe",
        "colab_type": "code",
        "outputId": "95dc1942-756e-474b-a59d-c6ca89bce2f2",
        "colab": {
          "base_uri": "https://localhost:8080/",
          "height": 34
        }
      },
      "cell_type": "code",
      "source": [
        "def add_features(features):\n",
        "  \"\"\"\n",
        "  Args:\n",
        "    features: a list of tokens\n",
        "  \"\"\"\n",
        "  # TODO implement this function based on instructions above. \n",
        "  return features\n",
        "\n",
        "FEATURES_2 = data.Field(tokenize=lambda s: s.split(\" \"),preprocessing=add_features)\n",
        "LABEL_2 = data.Field(sequential=False, is_target=True, unk_token=None)\n",
        "rt_polarity_2 = data.TabularDataset(\n",
        "   path='rt-polaritydata/rt-polarity.utf8.tsv', format='tsv',\n",
        "   fields=[('label', LABEL_2),\n",
        "           ('features', FEATURES_2)])\n",
        "\n",
        "# Show one example\n",
        "rt_polarity_2[10].features"
      ],
      "execution_count": 0,
      "outputs": [
        {
          "output_type": "execute_result",
          "data": {
            "text/plain": [
              "['a', 'sentimental', 'mess', 'that', 'never', 'rings', 'true', '.', '']"
            ]
          },
          "metadata": {
            "tags": []
          },
          "execution_count": 25
        }
      ]
    },
    {
      "metadata": {
        "id": "uMAcvq08wfpa",
        "colab_type": "text"
      },
      "cell_type": "markdown",
      "source": [
        "## Hyperparameters Search and Analysis [10 pts]\n",
        "\n",
        "### Early Stopping [5pts]\n",
        "\n",
        "Finding the right number of iterations is important (why can running to convergence be bad?). One way to to do this is to iterate for a max number K, and then choose the iteration with the largest dev set performance. But this can be slow and unnecessary if we assume that dev-set performance doesn't go up again once it starts to go down (dev set performance concave). Implement a variant of the training loop that implements this idea.  Specifically, the loop should terminate if there has been no increase in development set accuracy when comparing the current accuracy to that from 10 epochs ago. \n",
        "\n",
        "### Grid Search [5pts]\n",
        "Using all the features you developed in the above \"Add Features\" section (or the base model in case you could not address the question), find the best combination of \n",
        "\n",
        "* Learning Rate in {1.0, 0.1}\n",
        "* Number of Training epochs (via early stopping, use 1000 as maximum)\n",
        "* L2 regularisation weight in {0.001, 0.0001, 0}\n",
        "\n",
        "After grid search, the value of the variables `best_acc`, `best_l2`, `best_lr` and `best_epochs` should be appropriately. \n"
      ]
    },
    {
      "metadata": {
        "id": "nevKvEv6ww7z",
        "colab_type": "code",
        "colab": {}
      },
      "cell_type": "code",
      "source": [
        "def accuracy(dataset, model, batch_size=32):\n",
        "  # Testing the model and returning the accuracy on the given dataset\n",
        "  total = 0\n",
        "  correct = 0\n",
        "  for batch in data.BucketIterator(dataset=dataset, batch_size=batch_size):\n",
        "      output = model(batch.features)\n",
        "      total += len(batch.label)\n",
        "      prediction = (output > 0).long()\n",
        "      correct += (prediction == batch.label).sum()\n",
        "\n",
        "  return float(correct) / total  \n",
        "\n",
        "def training_loop(model, train_set, dev_set, num_epochs=100, \n",
        "                  batch_size=32, lr=0.1, weight_decay=0.0):\n",
        "  \"\"\"\n",
        "  Should return the best dev_set accuracy and the number of epochs used. \n",
        "  \"\"\"\n",
        "  criterion = torch.nn.BCEWithLogitsLoss()  \n",
        "  optimizer = torch.optim.SGD(model.parameters(), lr=lr, \n",
        "                              weight_decay=weight_decay)  \n",
        "  # Training the Model\n",
        "  epoch_accuracies = []\n",
        "  best_epoch = 0\n",
        "  best_accuracy = 0.0\n",
        "  for epoch in range(num_epochs):\n",
        "      for i, batch in enumerate(data.BucketIterator(dataset=train_set, \n",
        "                                                    batch_size=batch_size)):\n",
        "          features = batch.features\n",
        "          labels = batch.label.float()\n",
        "\n",
        "          # Forward + Backward + Optimize\n",
        "          optimizer.zero_grad()\n",
        "          outputs = model(features)\n",
        "          loss = criterion(outputs, labels)\n",
        "          loss.backward()\n",
        "          optimizer.step()\n",
        "\n",
        "          if (i+1) % 100 == 0:\n",
        "              print ('Epoch: [%d/%d], Step: [%d/%d], Loss: %.4f, Dev: %.4f' \n",
        "                     % (epoch+1, num_epochs, i+1, len(train_set)//batch_size, \n",
        "                        loss.data, accuracy(dev_set, model)))\n",
        "      \n",
        "      epoch_accuracies.append(accuracy(dev_set, model))\n",
        "      if epoch_accuracies[-1] > best_accuracy:\n",
        "          best_accuracy = epoch_accuracies[-1]\n",
        "          best_epoch = epoch\n",
        "          \n",
        "      # TODO: implement early stopping here      \n",
        " \n",
        "  return best_accuracy, best_epoch\n",
        "      \n",
        "\n",
        "FEATURES_FREE = data.Field(tokenize=lambda s: s.split(\" \"),preprocessing=add_features)\n",
        "LABEL_FREE = data.Field(sequential=False, is_target=True, unk_token=None)\n",
        "rt_polarity_free = data.TabularDataset(\n",
        "   path='rt-polaritydata/rt-polarity.utf8.tsv', format='tsv',\n",
        "   fields=[('label', LABEL_FREE),\n",
        "           ('features', FEATURES_FREE)])\n",
        "\n",
        "FEATURES_FREE.build_vocab(rt_polarity_free)\n",
        "LABEL_FREE.build_vocab(rt_polarity_free)\n",
        "rt_polarity_free[0].features\n",
        "\n",
        "import random\n",
        "random.seed(10)\n",
        "rt_train_free, rt_dev_free = rt_polarity_free.split([0.7, 0.3], \n",
        "                                                    random_state=random.getstate())\n",
        "\n",
        "best_acc = 0.0 # best accuracy achieved \n",
        "best_lr = 0.0 # best learning rate at best accuracy \n",
        "best_l2 = 0.0 # best l2 regularizing weight\n",
        "best_epochs = 0 # best number of epochs\n",
        "\n",
        "# TODO: implement grid search to make sure the above 4 variable have the right values \n"
      ],
      "execution_count": 0,
      "outputs": []
    },
    {
      "metadata": {
        "id": "7nagsWqN5pRK",
        "colab_type": "code",
        "colab": {}
      },
      "cell_type": "code",
      "source": [
        ""
      ],
      "execution_count": 0,
      "outputs": []
    },
    {
      "metadata": {
        "id": "CYpwNflwGsrU",
        "colab_type": "text"
      },
      "cell_type": "markdown",
      "source": [
        "# Automatic Evaluation [don't change!]"
      ]
    },
    {
      "metadata": {
        "id": "6zDrPphzsTBf",
        "colab_type": "text"
      },
      "cell_type": "markdown",
      "source": [
        "## Validity Check\n",
        "This is a way for you to check whether you accidentially renamed answer variables or functions that we will use for automatic evaluation. Note that this is not a comprehensive list and we do not check here whether you accidentially changed the function signatures, so failing this validity check is only a sufficient condition for telling you something went wrong."
      ]
    },
    {
      "metadata": {
        "id": "VEnoXoVjsVQ_",
        "colab_type": "code",
        "colab": {}
      },
      "cell_type": "code",
      "source": [
        "for answer in [Q1, Q2, Q3, Q4, Q5, Q6, Q7, Q8, Q9, Q10, QFormulation]:\n",
        "  assert isinstance(answer, str)\n",
        "\n",
        "for fun in [\n",
        "    construct_scaled_identity, \n",
        "    mean_diagonal, \n",
        "    bottom_right_matrix,\n",
        "    transpose_sum,\n",
        "    matrixvector1,\n",
        "    matrixvector2,\n",
        "    matrixvector3,\n",
        "    matrixvector4,\n",
        "    matrixvector5,\n",
        "    fw,\n",
        "    bw,\n",
        "    SortBy,\n",
        "    collapse_mr_dot_and_lowercase,\n",
        "    LogisticRegressionMeanPooling,\n",
        "    add_features,\n",
        "    accuracy,\n",
        "    training_loop\n",
        "    ]:\n",
        "  assert callable(fun)"
      ],
      "execution_count": 0,
      "outputs": []
    }
  ]
}